{
 "cells": [
  {
   "cell_type": "markdown",
   "metadata": {},
   "source": [
    "## Data Processing"
   ]
  },
  {
   "cell_type": "code",
   "execution_count": 1,
   "metadata": {
    "collapsed": true
   },
   "outputs": [],
   "source": [
    "import pandas as pd\n",
    "import numpy as np\n",
    "import pandas_datareader.data as web\n",
    "import sqlite3 as db\n",
    "import requests\n",
    "import requests_cache\n",
    "requests_cache.install_cache('cache')"
   ]
  },
  {
   "cell_type": "markdown",
   "metadata": {},
   "source": [
    "### 1. Scraping ETF data from the web and build SQLite3 database for tikcers"
   ]
  },
  {
   "cell_type": "code",
   "execution_count": null,
   "metadata": {
    "collapsed": true
   },
   "outputs": [],
   "source": [
    "# list of webpages\n",
    "htmls = '''\n",
    "http://www.etf.com/channels/bond-etfs\n",
    "http://www.etf.com/channels/mlp-etfs\n",
    "http://www.etf.com/channels/silver-etfs\n",
    "http://www.etf.com/channels/china-etfs\n",
    "http://www.etf.com/channels/muni-etfs\n",
    "http://www.etf.com/channels/us-broad-market-bond-etfs\n",
    "http://www.etf.com/channels/dividend-etfs\n",
    "http://www.etf.com/channels/natural-gas-etfs\n",
    "http://www.etf.com/channels/global-bond-etfs\n",
    "http://www.etf.com/channels/oil-etfs\n",
    "http://www.etf.com/channels/treasury-etfs\n",
    "http://www.etf.com/channels/gold-etfs\n",
    "http://www.etf.com/channels/reit-etfs\n",
    "http://www.etf.com/channels/high-dividend-yield-etfs\n",
    "http://www.etf.com/channels/japan-etfs\n",
    "http://www.etf.com/channels/smart-beta-etfs\n",
    "http://www.etf.com/etf-lists/alternatives-etfs\n",
    "http://www.etf.com/etf-lists/asset-allocation-etfs\n",
    "http://www.etf.com/etf-lists/currency-etfs\n",
    "http://www.etf.com/etf-lists/fixed-income-etfs\n",
    "http://www.etf.com/channels/alpha-seeking-etfs\n",
    "http://www.etf.com/channels/basic-materials-etfs\n",
    "http://www.etf.com/channels/consumer-cyclicals-etfs\n",
    "http://www.etf.com/channels/consumer-non-cyclicals-etfs\n",
    "http://www.etf.com/channels/energy-etfs\n",
    "http://www.etf.com/channels/extended-market-etfs\n",
    "http://www.etf.com/channels/financials-etfs\n",
    "http://www.etf.com/channels/health-care-etfs\n",
    "http://www.etf.com/channels/high-dividend-yield-etfs\n",
    "http://www.etf.com/channels/industrials-etfs\n",
    "http://www.etf.com/channels/real-estate-etfs\n",
    "http://www.etf.com/channels/small-cap-etfs\n",
    "http://www.etf.com/channels/technology-etfs\n",
    "http://www.etf.com/channels/telecommunications-etfs\n",
    "http://www.etf.com/channels/theme-etfs\n",
    "http://www.etf.com/channels/total-market-etfs\n",
    "http://www.etf.com/channels/utilities-etfs\n",
    "http://www.etf.com/channels/asia-pacific-etfs\n",
    "http://www.etf.com/channels/developed-markets-etfs\n",
    "http://www.etf.com/channels/emerging-markets-etfs\n",
    "http://www.etf.com/channels/europe-etfs\n",
    "http://www.etf.com/channels/global-etfs\n",
    "http://www.etf.com/channels/global-ex-us-etfs\n",
    "http://www.etf.com/channels/latin-america-etfs\n",
    "http://www.etf.com/channels/middle-east-and-africa-etfs\n",
    "'''\n",
    "\n",
    "data_raw = []\n",
    "\n",
    "for i in htmls.split():\n",
    "    print(\"Scraping data from {}.\".format(i))\n",
    "    df = pd.read_html(requests.get(i,headers={'user-agent': 'Mozilla/5.0'}).text)\n",
    "    #df holds multiple DataFrames - index [11] or index[5] is the DataFrame we are interested in \n",
    "    #the scraped data has slightly different headings across different webpages \n",
    "    #so we reset the column headings to be identical for each DataFrame  \n",
    "    #these names also match the columns we will set up in out SQLite database\n",
    "    try:\n",
    "        df_want = df[11]\n",
    "        df_want.columns = ['Fund Name','Ticker','Asset Class', 'Strategy','Region','Geography','Category','Focus','Niche', 'Inverse','Leveraged','ETN','Underlying Index','Index Provider','Selection Criteria','Weighting Scheme','Active per SEC']\n",
    "    except IndexError:\n",
    "        df_want = df[5]\n",
    "        df_want.columns = ['Fund Name','Ticker','Asset Class', 'Strategy','Region','Geography','Category','Focus','Niche', 'Inverse','Leveraged','ETN','Underlying Index','Index Provider','Selection Criteria','Weighting Scheme','Active per SEC']\n",
    "\n",
    "    data_raw.append(df_want)\n",
    "    \n",
    "tickers_df = pd.concat(data_raw).reset_index(drop = True).drop_duplicates()\n",
    "tickers_df.head()"
   ]
  },
  {
   "cell_type": "code",
   "execution_count": null,
   "metadata": {
    "collapsed": true
   },
   "outputs": [],
   "source": [
    "cnx = db.connect('/Users/Rachel/Dropbox/STA237 Project/tickers_database.db')\n",
    "cur = cnx.cursor()\n",
    "\n",
    "#remove table if already exists and any data it contains\n",
    "cur.execute('DROP TABLE IF EXISTS ETFtable;')\n",
    " \n",
    "#create the table within the database\n",
    "sql = '''CREATE TABLE ETFtable ('Fund Name' TEXT, 'Ticker' TEXT, 'Asset Class' TEXT, 'Strategy' TEXT,\n",
    "                                'Region' TEXT, 'Geography' TEXT, 'Category' TEXT, 'Focus' TEXT,\n",
    "                                'Niche' TEXT, 'Inverse' TEXT, 'Leveraged' TEXT, 'ETN' TEXT, \n",
    "                                'Underlying Index' TEXT, 'Index Provider' TEXT, 'Selection Criteria' TEXT, \n",
    "                                'Weighting Scheme' TEXT, 'Active per SEC' TEXT)''' \n",
    "cur.execute(sql)\n",
    "\n",
    "#upload table\n",
    "tickers_df.to_sql(name='ETFtable', con=cnx, if_exists = 'append', index=False)\n",
    "\n",
    "cnx.close()"
   ]
  },
  {
   "cell_type": "markdown",
   "metadata": {},
   "source": [
    "### 2. Get price data of assets from Yahoo Finance and build SQLite3 database"
   ]
  },
  {
   "cell_type": "code",
   "execution_count": null,
   "metadata": {
    "collapsed": true
   },
   "outputs": [],
   "source": [
    "cnx = db.connect('/Users/Rachel/Dropbox/STA237 Project/tickers_database.db')\n",
    "cur = cnx.cursor()\n",
    "\n",
    "sql1 = 'SELECT Ticker FROM ETFtable WHERE Focus = \"Crude Oil\" AND \"Asset Class\" = \"Commodities\"'\n",
    "cmd = pd.read_sql(sql1, con=cnx)['Ticker'].values.tolist()\n",
    "\n",
    "sql2 = 'SELECT Ticker FROM ETFtable WHERE Focus = \"Energy\" AND \"Asset Class\" = \"Equity\"'\n",
    "eqt = pd.read_sql(sql2, con=cnx)['Ticker'].values.tolist()\n",
    "\n",
    "cnx.close()"
   ]
  },
  {
   "cell_type": "code",
   "execution_count": null,
   "metadata": {
    "collapsed": true
   },
   "outputs": [],
   "source": [
    "def get_price_data(ticker, start, end):\n",
    "    df = pd.DataFrame(web.DataReader(ticker, 'yahoo', start, end)['Adj Close'])\n",
    "    df['Ticker'] = [ticker] * len(df)\n",
    "    return df"
   ]
  },
  {
   "cell_type": "code",
   "execution_count": null,
   "metadata": {
    "collapsed": true
   },
   "outputs": [],
   "source": [
    "start_date, end_date = '2014/06/25', '2017/11/25'\n",
    "data_list = []\n",
    "res_list = []\n",
    "for e in eqt + cmd:\n",
    "    try:\n",
    "        df = get_price_data(e, start_date, end_date).reset_index()\n",
    "        data_list.append(df)\n",
    "        print(e)\n",
    "    except:\n",
    "        res_list.append(e)"
   ]
  },
  {
   "cell_type": "code",
   "execution_count": null,
   "metadata": {
    "collapsed": true
   },
   "outputs": [],
   "source": [
    "df1 = pd.concat(data_list)\n",
    "df1['Date'] = [str(dt)[:10] for dt in df1['Date'].values]"
   ]
  },
  {
   "cell_type": "code",
   "execution_count": null,
   "metadata": {
    "collapsed": true
   },
   "outputs": [],
   "source": [
    "import glob\n",
    "import re\n",
    "\n",
    "file_names = glob.glob('./Data/*.csv')\n",
    "data_list2 = []\n",
    "for f in file_names:\n",
    "    ticker = f.split('/')[2].split('.')[0]\n",
    "    print(ticker)\n",
    "    if ticker not in df1.columns.values:\n",
    "        df = pd.DataFrame(pd.read_csv(f).set_index('Date')['Adj Close']).reset_index()\n",
    "        df['Ticker'] = [ticker] * len(df)\n",
    "        data_list2.append(df)"
   ]
  },
  {
   "cell_type": "code",
   "execution_count": null,
   "metadata": {
    "collapsed": true
   },
   "outputs": [],
   "source": [
    "df2 = pd.concat(data_list2)\n",
    "df = pd.concat([df1, df2])\n",
    "df.head()"
   ]
  },
  {
   "cell_type": "code",
   "execution_count": null,
   "metadata": {
    "collapsed": true
   },
   "outputs": [],
   "source": [
    "# Build price data base\n",
    "cnx = db.connect('/Users/Rachel/Dropbox/STA237 Project/tickers_database.db')\n",
    "cur = cnx.cursor()\n",
    "\n",
    "#remove table if already exists and any data it contains\n",
    "cur.execute('DROP TABLE IF EXISTS Pricetable;')\n",
    " \n",
    "#create the table within the database\n",
    "sql = '''CREATE TABLE Pricetable ('Date' TEXT, 'Adj Close' FLOAT, 'Ticker' TEXT)''' \n",
    "cur.execute(sql)\n",
    "\n",
    "#upload table\n",
    "df.to_sql(name='Pricetable', con=cnx, if_exists = 'append', index=False)\n",
    "\n",
    "cnx.close()"
   ]
  }
 ],
 "metadata": {
  "kernelspec": {
   "display_name": "Python 3",
   "language": "python",
   "name": "python3"
  },
  "language_info": {
   "codemirror_mode": {
    "name": "ipython",
    "version": 3
   },
   "file_extension": ".py",
   "mimetype": "text/x-python",
   "name": "python",
   "nbconvert_exporter": "python",
   "pygments_lexer": "ipython3",
   "version": "3.6.1"
  }
 },
 "nbformat": 4,
 "nbformat_minor": 2
}
